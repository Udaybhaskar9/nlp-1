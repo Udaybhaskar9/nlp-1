{
  "nbformat": 4,
  "nbformat_minor": 0,
  "metadata": {
    "colab": {
      "private_outputs": true,
      "provenance": []
    },
    "kernelspec": {
      "name": "python3",
      "display_name": "Python 3"
    },
    "language_info": {
      "name": "python"
    }
  },
  "cells": [
    {
      "cell_type": "code",
      "execution_count": null,
      "metadata": {
        "id": "R9Amspky3z5A"
      },
      "outputs": [],
      "source": [
        "def is_Operator(token):\n",
        "  return token in ['+', '-', '*', '/','^','=','(',')']\n",
        "\n",
        "def is_Operand(token):\n",
        "  return token.replace('.','',1).isdigit() or token.isalpha();\n",
        "def tokenizer(text):\n",
        "  tokens = []\n",
        "  current=''\n",
        "  for char in text:\n",
        "    if char in '+-*/^=()':\n",
        "      if current:\n",
        "        tokens.append(current.strip())\n",
        "        current=''\n",
        "      tokens.append(char)\n",
        "    elif char.isalnum() or char == '.':\n",
        "      current+=char\n",
        "    elif char.isspace():\n",
        "      if current:\n",
        "        tokens.append(current.strip())\n",
        "        current = ''\n",
        "  if current:\n",
        "    tokens.append(current.strip())\n",
        "  return tokens\n",
        "\n",
        "def extract_math_expression(tokens):\n",
        "  expressions =[]\n",
        "  current_exp=[]\n",
        "  expression_Started=False\n",
        "  valid_tokens=set(['+', '-', '*', '/','^','=','(',')'])\n",
        "  for token in tokens:\n",
        "    if token in valid_tokens or is_Operand(token):\n",
        "      current_exp.append(token)\n",
        "      expression_Started=True\n",
        "    elif expression_Started:\n",
        "        expressions.append(''.join(current_exp))\n",
        "        current_exp=[]\n",
        "        expression_Started=False\n",
        "  if current_exp:\n",
        "      expressions.append(''.join(current_exp))\n",
        "  return expressions\n",
        "  print(expressions)"
      ]
    },
    {
      "cell_type": "code",
      "metadata": {
        "id": "b9691e34"
      },
      "source": [
        "text = \"The quick brown fox jumps over the lazy dog with 2 + 3 * 4 = 14.\"\n",
        "tokens = tokenizer(text)\n",
        "expressions = extract_math_expression(tokens)\n",
        "print(expressions)"
      ],
      "execution_count": null,
      "outputs": []
    }
  ]
}